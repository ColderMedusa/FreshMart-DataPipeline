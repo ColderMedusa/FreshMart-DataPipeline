{
 "cells": [
  {
   "cell_type": "code",
   "execution_count": 1,
   "id": "fc694887",
   "metadata": {},
   "outputs": [],
   "source": [
    "import pandas as pd\n",
    "df = pd.read_csv('freshmart_products_csv.csv')"
   ]
  },
  {
   "cell_type": "code",
   "execution_count": 2,
   "id": "6bd63959",
   "metadata": {},
   "outputs": [
    {
     "data": {
      "text/plain": [
       "ProductID        0\n",
       "ProductName      0\n",
       "Category         0\n",
       "Price            5\n",
       "StockQuantity    5\n",
       "dtype: int64"
      ]
     },
     "execution_count": 2,
     "metadata": {},
     "output_type": "execute_result"
    }
   ],
   "source": [
    "df.isnull().sum()"
   ]
  },
  {
   "cell_type": "code",
   "execution_count": 3,
   "id": "a72189c9",
   "metadata": {},
   "outputs": [
    {
     "data": {
      "text/plain": [
       "ProductID        0\n",
       "ProductName      0\n",
       "Category         0\n",
       "Price            0\n",
       "StockQuantity    0\n",
       "dtype: int64"
      ]
     },
     "execution_count": 3,
     "metadata": {},
     "output_type": "execute_result"
    }
   ],
   "source": [
    "df = df.fillna('NA')\n",
    "df.isnull().sum()"
   ]
  },
  {
   "cell_type": "code",
   "execution_count": 4,
   "id": "e8c8cd73",
   "metadata": {},
   "outputs": [
    {
     "data": {
      "text/html": [
       "<div>\n",
       "<style scoped>\n",
       "    .dataframe tbody tr th:only-of-type {\n",
       "        vertical-align: middle;\n",
       "    }\n",
       "\n",
       "    .dataframe tbody tr th {\n",
       "        vertical-align: top;\n",
       "    }\n",
       "\n",
       "    .dataframe thead th {\n",
       "        text-align: right;\n",
       "    }\n",
       "</style>\n",
       "<table border=\"1\" class=\"dataframe\">\n",
       "  <thead>\n",
       "    <tr style=\"text-align: right;\">\n",
       "      <th></th>\n",
       "      <th>ProductID</th>\n",
       "      <th>ProductName</th>\n",
       "      <th>Category</th>\n",
       "      <th>Price</th>\n",
       "      <th>StockQuantity</th>\n",
       "    </tr>\n",
       "  </thead>\n",
       "  <tbody>\n",
       "    <tr>\n",
       "      <th>0</th>\n",
       "      <td>1</td>\n",
       "      <td>Milk 1</td>\n",
       "      <td>Dairy</td>\n",
       "      <td>19.35</td>\n",
       "      <td>358.0</td>\n",
       "    </tr>\n",
       "    <tr>\n",
       "      <th>1</th>\n",
       "      <td>2</td>\n",
       "      <td>Cola 2</td>\n",
       "      <td>Beverages</td>\n",
       "      <td>9.99</td>\n",
       "      <td>81.0</td>\n",
       "    </tr>\n",
       "    <tr>\n",
       "      <th>2</th>\n",
       "      <td>3</td>\n",
       "      <td>Banana 3</td>\n",
       "      <td>Produce</td>\n",
       "      <td>30.33</td>\n",
       "      <td>112.0</td>\n",
       "    </tr>\n",
       "    <tr>\n",
       "      <th>3</th>\n",
       "      <td>4</td>\n",
       "      <td>Cream 4</td>\n",
       "      <td>Dairy</td>\n",
       "      <td>22.85</td>\n",
       "      <td>224.0</td>\n",
       "    </tr>\n",
       "    <tr>\n",
       "      <th>4</th>\n",
       "      <td>5</td>\n",
       "      <td>Cream 5</td>\n",
       "      <td>Dairy</td>\n",
       "      <td>3.85</td>\n",
       "      <td>97.0</td>\n",
       "    </tr>\n",
       "  </tbody>\n",
       "</table>\n",
       "</div>"
      ],
      "text/plain": [
       "   ProductID ProductName   Category  Price StockQuantity\n",
       "0          1      Milk 1      Dairy  19.35         358.0\n",
       "1          2      Cola 2  Beverages   9.99          81.0\n",
       "2          3    Banana 3    Produce  30.33         112.0\n",
       "3          4     Cream 4      Dairy  22.85         224.0\n",
       "4          5     Cream 5      Dairy   3.85          97.0"
      ]
     },
     "execution_count": 4,
     "metadata": {},
     "output_type": "execute_result"
    }
   ],
   "source": [
    "df.iloc[0:5]"
   ]
  },
  {
   "cell_type": "code",
   "execution_count": 5,
   "id": "c9adbf53",
   "metadata": {},
   "outputs": [
    {
     "name": "stdout",
     "output_type": "stream",
     "text": [
      "<class 'pandas.core.frame.DataFrame'>\n",
      "RangeIndex: 205 entries, 0 to 204\n",
      "Data columns (total 5 columns):\n",
      " #   Column         Non-Null Count  Dtype \n",
      "---  ------         --------------  ----- \n",
      " 0   ProductID      205 non-null    int64 \n",
      " 1   ProductName    205 non-null    object\n",
      " 2   Category       205 non-null    object\n",
      " 3   Price          205 non-null    object\n",
      " 4   StockQuantity  205 non-null    object\n",
      "dtypes: int64(1), object(4)\n",
      "memory usage: 8.1+ KB\n"
     ]
    }
   ],
   "source": [
    "df.info()"
   ]
  },
  {
   "cell_type": "code",
   "execution_count": 6,
   "id": "5a610587",
   "metadata": {},
   "outputs": [],
   "source": [
    "df['Price'] = pd.to_numeric(df['Price'], errors='coerce')\n",
    "df['StockQuantity'] = pd.to_numeric(df['StockQuantity'], errors='coerce')\n",
    "df['StockValue'] = df['Price'] * df['StockQuantity'] #Create new column 'StockValue'"
   ]
  },
  {
   "cell_type": "code",
   "execution_count": 7,
   "id": "128a5fb0",
   "metadata": {},
   "outputs": [
    {
     "data": {
      "text/html": [
       "<div>\n",
       "<style scoped>\n",
       "    .dataframe tbody tr th:only-of-type {\n",
       "        vertical-align: middle;\n",
       "    }\n",
       "\n",
       "    .dataframe tbody tr th {\n",
       "        vertical-align: top;\n",
       "    }\n",
       "\n",
       "    .dataframe thead th {\n",
       "        text-align: right;\n",
       "    }\n",
       "</style>\n",
       "<table border=\"1\" class=\"dataframe\">\n",
       "  <thead>\n",
       "    <tr style=\"text-align: right;\">\n",
       "      <th></th>\n",
       "      <th>ProductID</th>\n",
       "      <th>ProductName</th>\n",
       "      <th>Category</th>\n",
       "      <th>Price</th>\n",
       "      <th>StockQuantity</th>\n",
       "      <th>StockValue</th>\n",
       "    </tr>\n",
       "  </thead>\n",
       "  <tbody>\n",
       "    <tr>\n",
       "      <th>0</th>\n",
       "      <td>1</td>\n",
       "      <td>Milk 1</td>\n",
       "      <td>Dairy</td>\n",
       "      <td>19.35</td>\n",
       "      <td>358.0</td>\n",
       "      <td>6927.30</td>\n",
       "    </tr>\n",
       "    <tr>\n",
       "      <th>1</th>\n",
       "      <td>2</td>\n",
       "      <td>Cola 2</td>\n",
       "      <td>Beverages</td>\n",
       "      <td>9.99</td>\n",
       "      <td>81.0</td>\n",
       "      <td>809.19</td>\n",
       "    </tr>\n",
       "    <tr>\n",
       "      <th>2</th>\n",
       "      <td>3</td>\n",
       "      <td>Banana 3</td>\n",
       "      <td>Produce</td>\n",
       "      <td>30.33</td>\n",
       "      <td>112.0</td>\n",
       "      <td>3396.96</td>\n",
       "    </tr>\n",
       "    <tr>\n",
       "      <th>3</th>\n",
       "      <td>4</td>\n",
       "      <td>Cream 4</td>\n",
       "      <td>Dairy</td>\n",
       "      <td>22.85</td>\n",
       "      <td>224.0</td>\n",
       "      <td>5118.40</td>\n",
       "    </tr>\n",
       "    <tr>\n",
       "      <th>4</th>\n",
       "      <td>5</td>\n",
       "      <td>Cream 5</td>\n",
       "      <td>Dairy</td>\n",
       "      <td>3.85</td>\n",
       "      <td>97.0</td>\n",
       "      <td>373.45</td>\n",
       "    </tr>\n",
       "    <tr>\n",
       "      <th>...</th>\n",
       "      <td>...</td>\n",
       "      <td>...</td>\n",
       "      <td>...</td>\n",
       "      <td>...</td>\n",
       "      <td>...</td>\n",
       "      <td>...</td>\n",
       "    </tr>\n",
       "    <tr>\n",
       "      <th>200</th>\n",
       "      <td>96</td>\n",
       "      <td>Apple 96</td>\n",
       "      <td>Produce</td>\n",
       "      <td>3.52</td>\n",
       "      <td>494.0</td>\n",
       "      <td>1738.88</td>\n",
       "    </tr>\n",
       "    <tr>\n",
       "      <th>201</th>\n",
       "      <td>16</td>\n",
       "      <td>Coffee 16</td>\n",
       "      <td>Beverages</td>\n",
       "      <td>18.95</td>\n",
       "      <td>199.0</td>\n",
       "      <td>3771.05</td>\n",
       "    </tr>\n",
       "    <tr>\n",
       "      <th>202</th>\n",
       "      <td>31</td>\n",
       "      <td>Apple 31</td>\n",
       "      <td>Produce</td>\n",
       "      <td>21.83</td>\n",
       "      <td>63.0</td>\n",
       "      <td>1375.29</td>\n",
       "    </tr>\n",
       "    <tr>\n",
       "      <th>203</th>\n",
       "      <td>159</td>\n",
       "      <td>Tea 159</td>\n",
       "      <td>Beverages</td>\n",
       "      <td>19.14</td>\n",
       "      <td>242.0</td>\n",
       "      <td>4631.88</td>\n",
       "    </tr>\n",
       "    <tr>\n",
       "      <th>204</th>\n",
       "      <td>129</td>\n",
       "      <td>Muffin 129</td>\n",
       "      <td>Bakery</td>\n",
       "      <td>42.96</td>\n",
       "      <td>63.0</td>\n",
       "      <td>2706.48</td>\n",
       "    </tr>\n",
       "  </tbody>\n",
       "</table>\n",
       "<p>205 rows × 6 columns</p>\n",
       "</div>"
      ],
      "text/plain": [
       "     ProductID ProductName   Category  Price  StockQuantity  StockValue\n",
       "0            1      Milk 1      Dairy  19.35          358.0     6927.30\n",
       "1            2      Cola 2  Beverages   9.99           81.0      809.19\n",
       "2            3    Banana 3    Produce  30.33          112.0     3396.96\n",
       "3            4     Cream 4      Dairy  22.85          224.0     5118.40\n",
       "4            5     Cream 5      Dairy   3.85           97.0      373.45\n",
       "..         ...         ...        ...    ...            ...         ...\n",
       "200         96    Apple 96    Produce   3.52          494.0     1738.88\n",
       "201         16   Coffee 16  Beverages  18.95          199.0     3771.05\n",
       "202         31    Apple 31    Produce  21.83           63.0     1375.29\n",
       "203        159     Tea 159  Beverages  19.14          242.0     4631.88\n",
       "204        129  Muffin 129     Bakery  42.96           63.0     2706.48\n",
       "\n",
       "[205 rows x 6 columns]"
      ]
     },
     "execution_count": 7,
     "metadata": {},
     "output_type": "execute_result"
    }
   ],
   "source": [
    "df"
   ]
  },
  {
   "cell_type": "code",
   "execution_count": 8,
   "id": "1f101a0e",
   "metadata": {},
   "outputs": [
    {
     "data": {
      "text/plain": [
       "24.504299999999997"
      ]
     },
     "execution_count": 8,
     "metadata": {},
     "output_type": "execute_result"
    }
   ],
   "source": [
    "df['Price'].mean() #Average price"
   ]
  },
  {
   "cell_type": "code",
   "execution_count": 9,
   "id": "73db65a2",
   "metadata": {},
   "outputs": [
    {
     "data": {
      "text/plain": [
       "52810.0"
      ]
     },
     "execution_count": 9,
     "metadata": {},
     "output_type": "execute_result"
    }
   ],
   "source": [
    "df['StockQuantity'].sum() #Total stock quantity"
   ]
  },
  {
   "cell_type": "code",
   "execution_count": 10,
   "id": "8bfce8d9",
   "metadata": {},
   "outputs": [
    {
     "name": "stdout",
     "output_type": "stream",
     "text": [
      "Requirement already satisfied: psycopg2-binary in c:\\users\\jerda\\anaconda3\\lib\\site-packages (2.9.10)\n",
      "Note: you may need to restart the kernel to use updated packages.\n"
     ]
    }
   ],
   "source": [
    "# Database operations and connection\n",
    "%pip install psycopg2-binary\n",
    "import psycopg2\n",
    "\n",
    "def create_connection(\n",
    "        dbname='FreshMart',\n",
    "        dbuser='postgres',\n",
    "        dbpassword='1234',\n",
    "        dbhost='localhost',\n",
    "        dbport='5432'\n",
    "    ):\n",
    "    conn = psycopg2.connect(\n",
    "        dbname=dbname,\n",
    "        user=dbuser,\n",
    "        password=dbpassword,\n",
    "        host=dbhost,\n",
    "        port=dbport\n",
    "    )\n",
    "    cursor = conn.cursor()\n",
    "    print(\"Connection to database successful\")\n",
    "    return conn, cursor\n",
    "\n",
    "def create_table(conn, cursor):\n",
    "    create_table_query = '''\n",
    "    CREATE TABLE IF NOT EXISTS products (\n",
    "        id SERIAL PRIMARY KEY,\n",
    "        product_name VARCHAR(255),\n",
    "        category VARCHAR(100),\n",
    "        price DECIMAL,\n",
    "        stock_quantity INTEGER,\n",
    "        stock_value NUMERIC\n",
    "    );\n",
    "    '''\n",
    "    cursor.execute(create_table_query)\n",
    "    conn.commit()\n",
    "    print(\"Table created successfully\")\n",
    "\n",
    "def insert_data(conn, cursor, df):\n",
    "    # Ensure the dataframe columns match the database columns\n",
    "    for idx, row in df.iterrows():\n",
    "        cursor.execute('''\n",
    "            INSERT INTO products (product_name, category, price, stock_quantity, stock_value)\n",
    "            VALUES (%s, %s, %s, %s, %s)\n",
    "        ''', (\n",
    "            row['ProductName'],\n",
    "            row['Category'],\n",
    "            row['Price'],\n",
    "            row['StockQuantity'],\n",
    "            row['StockValue']\n",
    "        ))\n",
    "    conn.commit()\n",
    "    print(\"Data inserted successfully\")\n",
    "\n",
    "def fetch_products(conn, cursor):\n",
    "    cursor.execute(\"SELECT * FROM products;\")\n",
    "    rows = cursor.fetchall()\n",
    "    for row in rows:\n",
    "        print(row)\n",
    "\n",
    "def close_connection(conn, cursor):\n",
    "    cursor.close()\n",
    "    conn.close()\n",
    "    print(\"Connection closed\")\n",
    "    "
   ]
  },
  {
   "cell_type": "code",
   "execution_count": 16,
   "id": "00990aeb",
   "metadata": {},
   "outputs": [
    {
     "name": "stdout",
     "output_type": "stream",
     "text": [
      "     ProductID ProductName Category  Price  StockQuantity  StockValue\n",
      "0            1      Milk 1    Dairy  19.35            358     6927.30\n",
      "3            4     Cream 4    Dairy  22.85            224     5118.40\n",
      "4            5     Cream 5    Dairy   3.85             97      373.45\n",
      "6            7      Milk 7    Dairy  35.70              0         NaN\n",
      "9           10    Cream 10    Dairy   1.04            453      471.12\n",
      "18          19   Butter 19    Dairy  49.18            140     6885.20\n",
      "19          20   Yogurt 20    Dairy  43.14            144     6212.16\n",
      "23          24   Butter 24    Dairy  19.89            355     7060.95\n",
      "24          25    Cream 25    Dairy   5.79            349     2020.71\n",
      "28          29   Cheese 29    Dairy  20.16             59     1189.44\n",
      "57          58     Milk 58    Dairy  24.14            110     2655.40\n",
      "60          61   Butter 61    Dairy  12.56            407     5111.92\n",
      "64          65     Milk 65    Dairy  10.88            361     3927.68\n",
      "69          70   Yogurt 70    Dairy  38.02             45     1710.90\n",
      "79          80   Yogurt 80    Dairy   6.39            386     2466.54\n",
      "81          82   Cheese 82    Dairy  41.08            242     9941.36\n",
      "83          84   Butter 84    Dairy  26.03            146     3800.38\n",
      "84          85    Cream 85    Dairy  24.76            234     5793.84\n",
      "94          95   Cheese 95    Dairy  48.85            229    11186.65\n",
      "100        101    Milk 101    Dairy  30.04            448    13457.92\n",
      "102        103  Yogurt 103    Dairy  12.87            303     3899.61\n",
      "103        104   Cream 104    Dairy  19.02            381     7246.62\n",
      "111        112  Butter 112    Dairy  26.09            156     4070.04\n",
      "114        115    Milk 115    Dairy  20.48             48      983.04\n",
      "115        116  Butter 116    Dairy  46.90            138     6472.20\n",
      "124        125    Milk 125    Dairy  28.36            169     4792.84\n",
      "126        127  Cheese 127    Dairy  14.66            156     2286.96\n",
      "130        131  Cheese 131    Dairy  42.70            122     5209.40\n",
      "139        140  Yogurt 140    Dairy   1.89            407      769.23\n",
      "140        141    Milk 141    Dairy  16.94            413     6996.22\n",
      "148        149   Cream 149    Dairy  44.71            292    13055.32\n",
      "160        161  Butter 161    Dairy  21.98            190     4176.20\n",
      "162        163    Milk 163    Dairy  42.80            200     8560.00\n",
      "166        167  Cheese 167    Dairy  28.28            232     6560.96\n",
      "171        172   Cream 172    Dairy  13.45            499     6711.55\n",
      "174        175    Milk 175    Dairy  35.42            185     6552.70\n",
      "181        182    Milk 182    Dairy    NaN            409         NaN\n",
      "183        184    Milk 184    Dairy  17.56            101     1773.56\n",
      "188        189    Milk 189    Dairy  42.11             67     2821.37\n",
      "189        190  Cheese 190    Dairy   2.49            189      470.61\n",
      "194        195  Yogurt 195    Dairy  31.52            205     6461.60\n"
     ]
    }
   ],
   "source": [
    "# Ensure StockQuantity is integer and within PostgreSQL INTEGER range\n",
    "df['StockQuantity'] = df['StockQuantity'].fillna(0).astype(int)\n",
    "df['StockQuantity'] = df['StockQuantity'].clip(lower=-2147483648, upper=2147483647)\n",
    "print(df[df['Category'] == 'Dairy'])\n",
    "\n"
   ]
  },
  {
   "cell_type": "code",
   "execution_count": null,
   "id": "d678fc01",
   "metadata": {},
   "outputs": [
    {
     "name": "stdout",
     "output_type": "stream",
     "text": [
      "     ProductID        ProductName   Category  Price  StockQuantity  StockValue\n",
      "6            7             Milk 7      Dairy  35.70              0         NaN\n",
      "29          30    Orange Juice 30  Beverages  33.46             11      368.06\n",
      "56          57           Bread 57     Bakery  14.46             44      636.24\n",
      "69          70          Yogurt 70      Dairy  38.02             45     1710.90\n",
      "88          89     Granola Bar 89     Snacks  28.35              0         NaN\n",
      "114        115           Milk 115      Dairy  20.48             48      983.04\n",
      "120        121      Croissant 121     Bakery   9.57              0         NaN\n",
      "125        126          Chips 126     Snacks  32.02             18      576.36\n",
      "129        130        Lettuce 130    Produce  39.21              0         NaN\n",
      "145        146          Apple 146    Produce  32.18             31      997.58\n",
      "146        147          Chips 147     Snacks  12.96             47      609.12\n",
      "153        154    Granola Bar 154     Snacks  25.46             13      330.98\n",
      "157        158      Croissant 158     Bakery  14.70             15      220.50\n",
      "165        166         Carrot 166    Produce  24.78             27      669.06\n",
      "179        180  Mineral Water 180  Beverages  25.57              0         NaN\n"
     ]
    }
   ],
   "source": [
    "# Ensure StockQuantity is integer and within PostgreSQL INTEGER range\n",
    "df['StockQuantity'] = df['StockQuantity'].fillna(0).astype(int)\n",
    "df['StockQuantity'] = df['StockQuantity'].clip(lower=-2147483648, upper=2147483647)\n",
    "print(df[df['StockQuantity'] < 50])"
   ]
  },
  {
   "cell_type": "code",
   "execution_count": null,
   "id": "f041ecf2",
   "metadata": {},
   "outputs": [],
   "source": []
  }
 ],
 "metadata": {
  "kernelspec": {
   "display_name": "base",
   "language": "python",
   "name": "python3"
  },
  "language_info": {
   "codemirror_mode": {
    "name": "ipython",
    "version": 3
   },
   "file_extension": ".py",
   "mimetype": "text/x-python",
   "name": "python",
   "nbconvert_exporter": "python",
   "pygments_lexer": "ipython3",
   "version": "3.12.7"
  }
 },
 "nbformat": 4,
 "nbformat_minor": 5
}
